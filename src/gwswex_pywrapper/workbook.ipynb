{
 "cells": [
  {
   "cell_type": "code",
   "execution_count": 1,
   "metadata": {},
   "outputs": [],
   "source": [
    "import os, sys\n",
    "from ctypes import *\n",
    "\n",
    "import numpy as np\n",
    "from scipy.io import FortranFile\n",
    "\n",
    "import yaml\n",
    "from dataclasses import dataclass\n",
    "\n",
    "from datetime import datetime, timedelta\n",
    "\n",
    "import matplotlib.pyplot as plt"
   ]
  },
  {
   "cell_type": "code",
   "execution_count": 2,
   "metadata": {},
   "outputs": [],
   "source": [
    "try:\n",
    "    sys.path.append(os.path.abspath('/opt/gwswex/lib/'))\n",
    "    from gwswex_f2pywrapper import gwswex\n",
    "except ImportError:\n",
    "    try:\n",
    "        sys.path.append(os.path.abspath('../../lib/'))\n",
    "        from gwswex_f2pywrapper import gwswex\n",
    "    except ImportError:\n",
    "        raise ModuleNotFoundError(f\"Could not find the gwswex_f2pywrapper module. Expected locations: /opt/gwswex/lib/ or {os.abspath('../../lib/')}\")"
   ]
  },
  {
   "cell_type": "code",
   "execution_count": 3,
   "metadata": {},
   "outputs": [],
   "source": [
    "config_file = '../../test/test.yml'\n",
    "with open(config_file, 'r') as file:\n",
    "    config = yaml.load(file, Loader=yaml.FullLoader)"
   ]
  },
  {
   "cell_type": "code",
   "execution_count": null,
   "metadata": {},
   "outputs": [
    {
     "ename": "",
     "evalue": "",
     "output_type": "error",
     "traceback": [
      "\u001b[1;31mThe Kernel crashed while executing code in the current cell or a previous cell. \n",
      "\u001b[1;31mPlease review the code in the cell(s) to identify a possible cause of the failure. \n",
      "\u001b[1;31mClick <a href='https://aka.ms/vscodeJupyterKernelCrash'>here</a> for more info. \n",
      "\u001b[1;31mView Jupyter <a href='command:jupyter.viewOutput'>log</a> for further details."
     ]
    }
   ],
   "source": [
    "gwswex.init(os.path.abspath(config_file), np.zeros(50000), np.zeros(50000))"
   ]
  },
  {
   "cell_type": "code",
   "execution_count": 36,
   "metadata": {},
   "outputs": [
    {
     "data": {
      "text/plain": [
       "{'model': {'domain': {'nelements': 50000,\n",
       "   'dt': 3600,\n",
       "   'tstart': '20200101 000000',\n",
       "   'tstop': '20200101 010000',\n",
       "   'nlay': 3,\n",
       "   'top': 'top.ip',\n",
       "   'bot': 'bot.ip',\n",
       "   'layer1': {'name': 'l1',\n",
       "    'isactive': 'l1_active.ip',\n",
       "    'vanG': [0.35, 1.25, 0.02, 0.42],\n",
       "    'ks': 'l1_ks.ip',\n",
       "    'porosity': 'l1_porosity.ip'},\n",
       "   'layer2': {'name': 'l2',\n",
       "    'isactive': 'l2_active.ip',\n",
       "    'vanG': [0.35, 1.25, 0.02, 0.42],\n",
       "    'ks': 'l2_ks.ip',\n",
       "    'porosity': 'l2_porosity.ip'},\n",
       "   'layer3': {'name': 'l3',\n",
       "    'isactive': 'l3_active.ip',\n",
       "    'vanG': [0.35, 1.25, 0.02, 0.42],\n",
       "    'ks': 'l3_ks.ip',\n",
       "    'porosity': 'l3_porosity.ip'}},\n",
       "  'boundary conditions': {'GW CHD': 'GW_chd.ip'},\n",
       "  'initial conditions': {'GW': 'GW_ini.ip', 'SW': 'SW_ini.ip'},\n",
       "  'external forcings': {'p': 'p.ip', 'et': 'et.ip'},\n",
       "  'solver settings': {'pet_intensities': [2.78e-05, 0.000556, 0.00833],\n",
       "   'pet_nts': [3, 5, 7]}},\n",
       " 'paths': {'root': '/home/gwswex_dev/GWSWEX/multilay/runtime',\n",
       "  'input': '/home/gwswex_dev/GWSWEX/multilay/runtime/input',\n",
       "  'output': '/home/gwswex_dev/GWSWEX/multilay/runtime/output',\n",
       "  'files': {'DMN.TOP': 1,\n",
       "   'DMN.BOT': 1,\n",
       "   'DMN.LAY.ACT': 1,\n",
       "   'DMN.LAY.KS': 1,\n",
       "   'DMN.LAY.POR': 1,\n",
       "   'BND.CHD': 1,\n",
       "   'IC.GW': 1,\n",
       "   'IC.SW': 1,\n",
       "   'EXTF.p': 1,\n",
       "   'EXTF.et': 1}},\n",
       " 'utils': {'logger': {'level': 1, 'fname': 'GWSWEX.log'}}}"
      ]
     },
     "execution_count": 36,
     "metadata": {},
     "output_type": "execute_result"
    },
    {
     "ename": "",
     "evalue": "",
     "output_type": "error",
     "traceback": [
      "\u001b[1;31mThe Kernel crashed while executing code in the current cell or a previous cell. \n",
      "\u001b[1;31mPlease review the code in the cell(s) to identify a possible cause of the failure. \n",
      "\u001b[1;31mClick <a href='https://aka.ms/vscodeJupyterKernelCrash'>here</a> for more info. \n",
      "\u001b[1;31mView Jupyter <a href='command:jupyter.viewOutput'>log</a> for further details."
     ]
    }
   ],
   "source": [
    "config_dict = config\n",
    "config_dict"
   ]
  },
  {
   "cell_type": "code",
   "execution_count": 3,
   "metadata": {},
   "outputs": [
    {
     "data": {
      "text/plain": [
       "'/usr/lib/libpython3.9.so.1.0'"
      ]
     },
     "execution_count": 3,
     "metadata": {},
     "output_type": "execute_result"
    }
   ],
   "source": [
    "from distutils.sysconfig import get_config_var\n",
    "\"%s/%s\" % (get_config_var(\"LIBDIR\"), get_config_var(\"INSTSONAME\"))\n"
   ]
  },
  {
   "cell_type": "code",
   "execution_count": 28,
   "metadata": {},
   "outputs": [],
   "source": [
    "@dataclass\n",
    "class config:\n",
    "    @dataclass\n",
    "    class model:\n",
    "        @dataclass\n",
    "        class domain:\n",
    "            nelements: int\n",
    "            dt: int\n",
    "\n",
    "            tstart: datetime\n",
    "            tstart_str: str\n",
    "            tstop: datetime\n",
    "            tstop_str: str\n",
    "\n",
    "            nlay: int\n",
    "\n",
    "            top_file: str\n",
    "            top: np.ndarray\n",
    "            bot_file: str\n",
    "            bot: np.ndarray\n",
    "\n",
    "            @dataclass\n",
    "            class layer:\n",
    "                name: str\n",
    "                isactive: bool\n",
    "\n",
    "                @dataclass\n",
    "                class vanG:\n",
    "                    theta_r: float\n",
    "                    theta_s: float\n",
    "                    alpha: float\n",
    "                    n: float\n",
    "                    m: float\n",
    "\n",
    "                ks: str\n",
    "                porosity: str\n",
    "            \n",
    "            layers: list\n",
    "\n",
    "        @dataclass\n",
    "        class boundary_conditions:\n",
    "            gw_chd_file: str\n",
    "            gw_chd: np.ndarray\n",
    "        \n",
    "        @dataclass\n",
    "        class initial_conditions:\n",
    "            gw_ini_file: str\n",
    "            gw_ini: np.ndarray\n",
    "\n",
    "            sw_ini_file: str\n",
    "            sw_ini: np.ndarray\n",
    "        \n",
    "        @dataclass\n",
    "        class external_forcings:\n",
    "            p_file: str\n",
    "            p: np.ndarray\n",
    "\n",
    "            et_file: str\n",
    "            et: np.ndarray\n",
    "        \n",
    "        @dataclass\n",
    "        class solver_settings:\n",
    "            pet_intensities: np.ndarray\n",
    "            pet_nts: np.ndarray\n",
    "        \n",
    "    @dataclass\n",
    "    class paths:\n",
    "        "
   ]
  },
  {
   "cell_type": "code",
   "execution_count": 29,
   "metadata": {},
   "outputs": [
    {
     "data": {
      "text/plain": [
       "__main__.config.model.domain.layers"
      ]
     },
     "execution_count": 29,
     "metadata": {},
     "output_type": "execute_result"
    }
   ],
   "source": [
    "config.model.domain.layers"
   ]
  },
  {
   "cell_type": "code",
   "execution_count": 2,
   "metadata": {},
   "outputs": [
    {
     "data": {
      "text/plain": [
       "array([[0.],\n",
       "       [0.],\n",
       "       [0.],\n",
       "       ...,\n",
       "       [0.],\n",
       "       [0.],\n",
       "       [0.]])"
      ]
     },
     "execution_count": 2,
     "metadata": {},
     "output_type": "execute_result"
    }
   ],
   "source": [
    "import numpy as np\n",
    "np.zeros((50000,1))"
   ]
  }
 ],
 "metadata": {
  "kernelspec": {
   "display_name": "Python 3",
   "language": "python",
   "name": "python3"
  },
  "language_info": {
   "codemirror_mode": {
    "name": "ipython",
    "version": 3
   },
   "file_extension": ".py",
   "mimetype": "text/x-python",
   "name": "python",
   "nbconvert_exporter": "python",
   "pygments_lexer": "ipython3",
   "version": "3.9.2"
  }
 },
 "nbformat": 4,
 "nbformat_minor": 2
}
