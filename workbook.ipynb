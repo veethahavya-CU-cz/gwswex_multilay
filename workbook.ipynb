{
 "cells": [
  {
   "cell_type": "code",
   "execution_count": 1,
   "metadata": {},
   "outputs": [],
   "source": [
    "%load_ext autoreload\n",
    "%autoreload 2"
   ]
  },
  {
   "cell_type": "code",
   "execution_count": 2,
   "metadata": {},
   "outputs": [],
   "source": [
    "import sys, os\n",
    "import numpy as np\n",
    "\n",
    "import datetime"
   ]
  },
  {
   "cell_type": "code",
   "execution_count": 3,
   "metadata": {},
   "outputs": [],
   "source": [
    "sys.path.append(os.path.abspath('src/'))\n",
    "from pywrapper.main import gwswexModel\n",
    "from pywrapper.main import layer"
   ]
  },
  {
   "cell_type": "code",
   "execution_count": 4,
   "metadata": {},
   "outputs": [],
   "source": [
    "uz_model = gwswexModel('config.yaml', logfile='./gwswex_pywrapper.log', verbose=True, debug=True)"
   ]
  },
  {
   "cell_type": "code",
   "execution_count": 5,
   "metadata": {},
   "outputs": [],
   "source": [
    "Domain = uz_model.model.Domain\n",
    "\n",
    "Domain.space.ne = 10\n",
    "Domain.space.nl = 3\n",
    "Domain.space.top = np.ones(Domain.space.ne)\n",
    "Domain.space.bot = np.zeros((Domain.space.ne, Domain.space.nl))\n",
    "\n",
    "Domain.time.dt = 3600\n",
    "Domain.time.start = datetime.datetime.now()\n",
    "Domain.time.stop = datetime.datetime.now() + datetime.timedelta(days=1)\n",
    "\n",
    "Domain.space.layers = [None] * Domain.space.nl\n",
    "for lidx in range(Domain.space.nl):\n",
    "    Domain.space.layers[lidx] = layer()\n",
    "    Domain.space.layers[lidx].isactive = np.array(Domain.space.ne)\n",
    "    Domain.space.layers[lidx].ks = np.ones(Domain.space.ne)\n",
    "    Domain.space.layers[lidx].porosity = np.ones(Domain.space.ne)\n",
    "    Domain.space.layers[lidx].vanG.alpha = 0\n",
    "    Domain.space.layers[lidx].vanG.n = 0\n",
    "    Domain.space.layers[lidx].vanG.theta_r = 0\n",
    "    Domain.space.layers[lidx].vanG.theta_s = 0\n",
    "\n",
    "Domain.init()\n",
    "\n",
    "\n",
    "\n",
    "Ini = uz_model.model.Ini\n",
    "Ini.gw = np.ones(Domain.space.ne)\n",
    "Ini.sw = np.ones(Domain.space.ne)\n",
    "\n",
    "Meteo = uz_model.model.Meteo\n",
    "Meteo.precip = np.ones((Domain.time.nts, Domain.space.ne))\n",
    "Meteo.pet = np.ones((Domain.time.nts, Domain.space.ne))\n",
    "\n",
    "uz_model.init()"
   ]
  },
  {
   "cell_type": "code",
   "execution_count": 6,
   "metadata": {},
   "outputs": [
    {
     "data": {
      "text/plain": [
       "(24, 10)"
      ]
     },
     "execution_count": 6,
     "metadata": {},
     "output_type": "execute_result"
    }
   ],
   "source": [
    "Meteo.precip.shape"
   ]
  },
  {
   "cell_type": "code",
   "execution_count": 7,
   "metadata": {},
   "outputs": [
    {
     "data": {
      "text/plain": [
       "{'Domain': {'space': {'ne': 10,\n",
       "   'nl': 3,\n",
       "   'top': array([1., 1., 1., 1., 1., 1., 1., 1., 1., 1.]),\n",
       "   'bot': array([[0., 0., 0., 0., 0., 0., 0., 0., 0., 0.],\n",
       "          [0., 0., 0., 0., 0., 0., 0., 0., 0., 0.],\n",
       "          [0., 0., 0., 0., 0., 0., 0., 0., 0., 0.]]),\n",
       "   'layers': {'layer1': {'isactive': array(10),\n",
       "     'vanG': {'alpha': 0, 'n': 0, 'theta_r': 0, 'theta_s': 0},\n",
       "     'ks': array([1., 1., 1., 1., 1., 1., 1., 1., 1., 1.]),\n",
       "     'porosity': array([1., 1., 1., 1., 1., 1., 1., 1., 1., 1.])},\n",
       "    'layer2': {'isactive': array(10),\n",
       "     'vanG': {'alpha': 0, 'n': 0, 'theta_r': 0, 'theta_s': 0},\n",
       "     'ks': array([1., 1., 1., 1., 1., 1., 1., 1., 1., 1.]),\n",
       "     'porosity': array([1., 1., 1., 1., 1., 1., 1., 1., 1., 1.])},\n",
       "    'layer3': {'isactive': array(10),\n",
       "     'vanG': {'alpha': 0, 'n': 0, 'theta_r': 0, 'theta_s': 0},\n",
       "     'ks': array([1., 1., 1., 1., 1., 1., 1., 1., 1., 1.]),\n",
       "     'porosity': array([1., 1., 1., 1., 1., 1., 1., 1., 1., 1.])}}},\n",
       "  'time': {'dt': 3600,\n",
       "   'start': '20240322_183417',\n",
       "   'stop': '20240322_183417',\n",
       "   'current': datetime.datetime(2024, 3, 22, 18, 34, 17, 981772),\n",
       "   'nts': 24}},\n",
       " 'Ini': {'gw': array([1., 1., 1., 1., 1., 1., 1., 1., 1., 1.]),\n",
       "  'sw': array([1., 1., 1., 1., 1., 1., 1., 1., 1., 1.]),\n",
       "  'uz': None},\n",
       " 'Meteo': {'precip': array([[1., 1., 1., 1., 1., 1., 1., 1., 1., 1.],\n",
       "         [1., 1., 1., 1., 1., 1., 1., 1., 1., 1.],\n",
       "         [1., 1., 1., 1., 1., 1., 1., 1., 1., 1.],\n",
       "         [1., 1., 1., 1., 1., 1., 1., 1., 1., 1.],\n",
       "         [1., 1., 1., 1., 1., 1., 1., 1., 1., 1.],\n",
       "         [1., 1., 1., 1., 1., 1., 1., 1., 1., 1.],\n",
       "         [1., 1., 1., 1., 1., 1., 1., 1., 1., 1.],\n",
       "         [1., 1., 1., 1., 1., 1., 1., 1., 1., 1.],\n",
       "         [1., 1., 1., 1., 1., 1., 1., 1., 1., 1.],\n",
       "         [1., 1., 1., 1., 1., 1., 1., 1., 1., 1.],\n",
       "         [1., 1., 1., 1., 1., 1., 1., 1., 1., 1.],\n",
       "         [1., 1., 1., 1., 1., 1., 1., 1., 1., 1.],\n",
       "         [1., 1., 1., 1., 1., 1., 1., 1., 1., 1.],\n",
       "         [1., 1., 1., 1., 1., 1., 1., 1., 1., 1.],\n",
       "         [1., 1., 1., 1., 1., 1., 1., 1., 1., 1.],\n",
       "         [1., 1., 1., 1., 1., 1., 1., 1., 1., 1.],\n",
       "         [1., 1., 1., 1., 1., 1., 1., 1., 1., 1.],\n",
       "         [1., 1., 1., 1., 1., 1., 1., 1., 1., 1.],\n",
       "         [1., 1., 1., 1., 1., 1., 1., 1., 1., 1.],\n",
       "         [1., 1., 1., 1., 1., 1., 1., 1., 1., 1.],\n",
       "         [1., 1., 1., 1., 1., 1., 1., 1., 1., 1.],\n",
       "         [1., 1., 1., 1., 1., 1., 1., 1., 1., 1.],\n",
       "         [1., 1., 1., 1., 1., 1., 1., 1., 1., 1.],\n",
       "         [1., 1., 1., 1., 1., 1., 1., 1., 1., 1.]]),\n",
       "  'pet': array([[1., 1., 1., 1., 1., 1., 1., 1., 1., 1.],\n",
       "         [1., 1., 1., 1., 1., 1., 1., 1., 1., 1.],\n",
       "         [1., 1., 1., 1., 1., 1., 1., 1., 1., 1.],\n",
       "         [1., 1., 1., 1., 1., 1., 1., 1., 1., 1.],\n",
       "         [1., 1., 1., 1., 1., 1., 1., 1., 1., 1.],\n",
       "         [1., 1., 1., 1., 1., 1., 1., 1., 1., 1.],\n",
       "         [1., 1., 1., 1., 1., 1., 1., 1., 1., 1.],\n",
       "         [1., 1., 1., 1., 1., 1., 1., 1., 1., 1.],\n",
       "         [1., 1., 1., 1., 1., 1., 1., 1., 1., 1.],\n",
       "         [1., 1., 1., 1., 1., 1., 1., 1., 1., 1.],\n",
       "         [1., 1., 1., 1., 1., 1., 1., 1., 1., 1.],\n",
       "         [1., 1., 1., 1., 1., 1., 1., 1., 1., 1.],\n",
       "         [1., 1., 1., 1., 1., 1., 1., 1., 1., 1.],\n",
       "         [1., 1., 1., 1., 1., 1., 1., 1., 1., 1.],\n",
       "         [1., 1., 1., 1., 1., 1., 1., 1., 1., 1.],\n",
       "         [1., 1., 1., 1., 1., 1., 1., 1., 1., 1.],\n",
       "         [1., 1., 1., 1., 1., 1., 1., 1., 1., 1.],\n",
       "         [1., 1., 1., 1., 1., 1., 1., 1., 1., 1.],\n",
       "         [1., 1., 1., 1., 1., 1., 1., 1., 1., 1.],\n",
       "         [1., 1., 1., 1., 1., 1., 1., 1., 1., 1.],\n",
       "         [1., 1., 1., 1., 1., 1., 1., 1., 1., 1.],\n",
       "         [1., 1., 1., 1., 1., 1., 1., 1., 1., 1.],\n",
       "         [1., 1., 1., 1., 1., 1., 1., 1., 1., 1.],\n",
       "         [1., 1., 1., 1., 1., 1., 1., 1., 1., 1.]]),\n",
       "  'aet': None,\n",
       "  'evap': None,\n",
       "  'temp': None,\n",
       "  'rh': None,\n",
       "  'wind': None,\n",
       "  'rad_in': None,\n",
       "  'rad_out': None},\n",
       " 'Solver': {'verbose': False,\n",
       "  'omp_cores': '16',\n",
       "  'integrator': None,\n",
       "  'nts_per_flux': None},\n",
       " 'Paths': {'output': '/home/gwswex_dev/GWSWEX/multilay/output',\n",
       "  'input': '/home/gwswex_dev/GWSWEX/multilay/input',\n",
       "  'logfile': './gwswex_pywrapper.log',\n",
       "  'config': '/home/gwswex_dev/GWSWEX/multilay/config.yaml',\n",
       "  'f2pywrapper': '/opt/gwswex/lib/gwswex_f2pywrapper.cpython-39-x86_64-linux-gnu.so'},\n",
       " 'IO': {'verbose': True, 'debug': False}}"
      ]
     },
     "execution_count": 7,
     "metadata": {},
     "output_type": "execute_result"
    }
   ],
   "source": [
    "uz_model.model.config"
   ]
  }
 ],
 "metadata": {
  "kernelspec": {
   "display_name": "Python 3",
   "language": "python",
   "name": "python3"
  },
  "language_info": {
   "codemirror_mode": {
    "name": "ipython",
    "version": 3
   },
   "file_extension": ".py",
   "mimetype": "text/x-python",
   "name": "python",
   "nbconvert_exporter": "python",
   "pygments_lexer": "ipython3",
   "version": "3.9.2"
  }
 },
 "nbformat": 4,
 "nbformat_minor": 2
}
