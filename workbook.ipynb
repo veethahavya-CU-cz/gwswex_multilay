{
 "cells": [
  {
   "cell_type": "code",
   "execution_count": 1,
   "metadata": {},
   "outputs": [],
   "source": [
    "%load_ext autoreload\n",
    "%autoreload 2"
   ]
  },
  {
   "cell_type": "code",
   "execution_count": 25,
   "metadata": {},
   "outputs": [],
   "source": [
    "import sys, os\n",
    "import numpy as np\n",
    "\n",
    "import datetime"
   ]
  },
  {
   "cell_type": "code",
   "execution_count": 3,
   "metadata": {},
   "outputs": [],
   "source": [
    "sys.path.append(os.path.abspath('src/'))\n",
    "from pywrapper.main import gwswex_model\n",
    "from pywrapper.main import layer"
   ]
  },
  {
   "cell_type": "code",
   "execution_count": 8,
   "metadata": {},
   "outputs": [
    {
     "name": "stdout",
     "output_type": "stream",
     "text": [
      "[CRITICAL] [23:50:56]: Model configuration file: /home/gwswex_dev/GWSWEX/multilay/config.yaml\n",
      "[CRITICAL] [23:50:56]: Model configuration file: /home/gwswex_dev/GWSWEX/multilay/config.yaml\n"
     ]
    }
   ],
   "source": [
    "uz_model = gwswex_model('config.yaml', logfile='./gwswex_pywrapper.log', verbose=True, debug=True)"
   ]
  },
  {
   "cell_type": "code",
   "execution_count": 27,
   "metadata": {},
   "outputs": [
    {
     "name": "stdout",
     "output_type": "stream",
     "text": [
      "[ERROR] [23:58:11]: domain.time.start must be a datetime object or a string in ['%Y%m%d_%H%M%S', '%Y-%m-%dT%H:%M:%S'].\n",
      "[ERROR] [23:58:11]: domain.time.start must be a datetime object or a string in ['%Y%m%d_%H%M%S', '%Y-%m-%dT%H:%M:%S'].\n",
      "domain.time.start must be a datetime object or a string in ['%Y%m%d_%H%M%S', '%Y-%m-%dT%H:%M:%S'].\n"
     ]
    },
    {
     "ename": "SystemExit",
     "evalue": "1",
     "output_type": "error",
     "traceback": [
      "An exception has occurred, use %tb to see the full traceback.\n",
      "\u001b[0;31mSystemExit\u001b[0m\u001b[0;31m:\u001b[0m 1\n"
     ]
    }
   ],
   "source": [
    "domain = uz_model.model.domain\n",
    "\n",
    "domain.space.ne = 10\n",
    "domain.space.nl = 3\n",
    "domain.space.top = np.ones(domain.space.ne, dtype=np.float64, order='F')\n",
    "domain.space.bot = np.zeros((domain.space.ne, domain.space.nl))\n",
    "\n",
    "domain.space.layers = [None] * domain.space.nl\n",
    "for lidx in range(domain.space.nl):\n",
    "    domain.space.layers[lidx] = layer()\n",
    "    domain.space.layers[lidx].isactive = np.array(domain.space.ne, dtype=np.int32)\n",
    "    domain.space.layers[lidx].ks = np.ones(domain.space.ne, dtype=np.float64, order='F')\n",
    "    domain.space.layers[lidx].porosity = 0\n",
    "    domain.space.layers[lidx].vanG.alpha = 0\n",
    "    domain.space.layers[lidx].vanG.n = 0\n",
    "    domain.space.layers[lidx].vanG.theta_r = 0\n",
    "    domain.space.layers[lidx].vanG.theta_s = 0\n",
    "\n",
    "domain.time.dt = 0\n",
    "domain.time.start = datetime.datetime.now()\n",
    "domain.time.stop = 0\n",
    "\n",
    "initial = uz_model.model.initial\n",
    "initial.gw = np.ones(domain.space.ne, dtype=np.float64, order='F')\n",
    "initial.sw = np.ones(domain.space.ne, dtype=np.float64, order='F')\n",
    "\n",
    "meteo = uz_model.model.meteo\n",
    "meteo.precip = np.ones(domain.space.ne, dtype=np.float64, order='F')\n",
    "meteo.pet = 3\n",
    "\n",
    "uz_model.init()"
   ]
  },
  {
   "cell_type": "code",
   "execution_count": null,
   "metadata": {},
   "outputs": [],
   "source": [
    "%tb"
   ]
  },
  {
   "cell_type": "code",
   "execution_count": null,
   "metadata": {},
   "outputs": [],
   "source": [
    "get_ipython().config"
   ]
  }
 ],
 "metadata": {
  "kernelspec": {
   "display_name": "Python 3",
   "language": "python",
   "name": "python3"
  },
  "language_info": {
   "codemirror_mode": {
    "name": "ipython",
    "version": 3
   },
   "file_extension": ".py",
   "mimetype": "text/x-python",
   "name": "python",
   "nbconvert_exporter": "python",
   "pygments_lexer": "ipython3",
   "version": "3.9.2"
  }
 },
 "nbformat": 4,
 "nbformat_minor": 2
}
