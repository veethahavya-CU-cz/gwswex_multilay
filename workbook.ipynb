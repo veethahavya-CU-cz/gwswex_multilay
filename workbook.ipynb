{
 "cells": [
  {
   "cell_type": "code",
   "execution_count": 6,
   "metadata": {},
   "outputs": [
    {
     "name": "stdout",
     "output_type": "stream",
     "text": [
      "The autoreload extension is already loaded. To reload it, use:\n",
      "  %reload_ext autoreload\n"
     ]
    }
   ],
   "source": [
    "%load_ext autoreload\n",
    "%autoreload 2"
   ]
  },
  {
   "cell_type": "code",
   "execution_count": 7,
   "metadata": {},
   "outputs": [],
   "source": [
    "import sys, os\n",
    "import numpy as np\n",
    "\n",
    "import datetime"
   ]
  },
  {
   "cell_type": "code",
   "execution_count": 8,
   "metadata": {},
   "outputs": [],
   "source": [
    "!export LD_LIBRARY_PATH=/usr/local/lib/\n",
    "sys.path.append(os.path.abspath('src/'))\n",
    "\n",
    "from pywrapper.main import gwswexModel\n",
    "from pywrapper.main import layer"
   ]
  },
  {
   "cell_type": "code",
   "execution_count": 9,
   "metadata": {},
   "outputs": [],
   "source": [
    "uz_model = gwswexModel('config.yml', logfile='./gwswex_pywrapper.log')"
   ]
  },
  {
   "cell_type": "code",
   "execution_count": 10,
   "metadata": {},
   "outputs": [],
   "source": [
    "Domain = uz_model.model.Domain\n",
    "\n",
    "Domain.space.ne = 10\n",
    "Domain.space.nl = 3\n",
    "Domain.space.top = np.ones(Domain.space.ne)\n",
    "Domain.space.bot = np.zeros((Domain.space.ne, Domain.space.nl))\n",
    "\n",
    "Domain.time.dt = 3600\n",
    "Domain.time.start = datetime.datetime.now()\n",
    "Domain.time.stop = datetime.datetime.now() + datetime.timedelta(days=1)\n",
    "\n",
    "Domain.space.layers = [None] * Domain.space.nl\n",
    "for lidx in range(Domain.space.nl):\n",
    "    Domain.space.layers[lidx] = layer()\n",
    "    Domain.space.layers[lidx].isactive = np.ones(Domain.space.ne)\n",
    "    Domain.space.layers[lidx].ks = np.ones(Domain.space.ne) * 7\n",
    "    Domain.space.layers[lidx].porosity = np.ones(Domain.space.ne) *42\n",
    "    Domain.space.layers[lidx].vanG.alpha = 0.42\n",
    "    Domain.space.layers[lidx].vanG.n = 1.5\n",
    "    Domain.space.layers[lidx].vanG.theta_r = 0.5\n",
    "    Domain.space.layers[lidx].vanG.theta_s = 0.1\n",
    "\n",
    "Domain.init()\n",
    "\n",
    "\n",
    "Ini = uz_model.model.Ini\n",
    "Ini.gw = np.ones(Domain.space.ne) * 150\n",
    "Ini.sw = np.ones(Domain.space.ne) * 0.01\n",
    "\n",
    "Meteo = uz_model.model.Meteo\n",
    "Meteo.precip = np.ones((Domain.time.nts, Domain.space.ne)) * 0.059834\n",
    "Meteo.pet = np.ones((Domain.time.nts, Domain.space.ne)) * 0.059834\n",
    "\n",
    "uz_model.init()"
   ]
  },
  {
   "cell_type": "code",
   "execution_count": null,
   "metadata": {},
   "outputs": [],
   "source": []
  }
 ],
 "metadata": {
  "kernelspec": {
   "display_name": "Python 3",
   "language": "python",
   "name": "python3"
  },
  "language_info": {
   "codemirror_mode": {
    "name": "ipython",
    "version": 3
   },
   "file_extension": ".py",
   "mimetype": "text/x-python",
   "name": "python",
   "nbconvert_exporter": "python",
   "pygments_lexer": "ipython3",
   "version": "3.11.2"
  }
 },
 "nbformat": 4,
 "nbformat_minor": 2
}
